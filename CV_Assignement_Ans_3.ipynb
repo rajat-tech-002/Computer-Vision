{
 "cells": [
  {
   "cell_type": "markdown",
   "metadata": {},
   "source": [
    "## Input Image 10 X 10\n",
    "\n",
    "### 180 181 181 182 179 184 184 184 186 187\n",
    "### 180 182 182 185 185 185 188 186 188 186\n",
    "### 186 180 183 182 186 189 191 191 192 194\n",
    "### 180 183 186 185 194 180 132 85 84 69\n",
    "### 183 181 187 191 150 44 16 16 17 18\n",
    "### 181 183 190 155 27 13 12 12 13 16\n",
    "### 186 185 181 37 14 14 15 15 16 14\n",
    "### 183 195 96 16 14 14 15 14 14 15\n",
    "### 191 159 24 13 13 12 13 14 14 14\n",
    "### 185 49 15 16 16 13 12 12 13 14"
   ]
  },
  {
   "cell_type": "code",
   "execution_count": 1,
   "metadata": {},
   "outputs": [
    {
     "name": "stdout",
     "output_type": "stream",
     "text": [
      "180 181 181 182 179 184 184 184 186 187 180 182 182 185 185 185 188 186 188 186 186 180 183 182 186 189 191 191 192 194 180 183 186 185 194 180 132 85 84 69 183 181 187 191 150 44 16 16 17 18 181 183 190 155 27 13 12 12 13 16 186 185 181 37 14 14 15 15 16 14 183 195 96 16 14 14 15 14 14 15 191 159 24 13 13 12 13 14 14 14 185 49 15 16 16 13 12 12 13 14\n"
     ]
    }
   ],
   "source": [
    "import numpy as np\n",
    "x = list(input().split())"
   ]
  },
  {
   "cell_type": "code",
   "execution_count": 3,
   "metadata": {},
   "outputs": [],
   "source": [
    "for i in range(len(x)):\n",
    "    x[i] = int(x[i])"
   ]
  },
  {
   "cell_type": "code",
   "execution_count": 4,
   "metadata": {},
   "outputs": [
    {
     "data": {
      "text/plain": [
       "array([[180, 181, 181, 182, 179, 184, 184, 184, 186, 187],\n",
       "       [180, 182, 182, 185, 185, 185, 188, 186, 188, 186],\n",
       "       [186, 180, 183, 182, 186, 189, 191, 191, 192, 194],\n",
       "       [180, 183, 186, 185, 194, 180, 132,  85,  84,  69],\n",
       "       [183, 181, 187, 191, 150,  44,  16,  16,  17,  18],\n",
       "       [181, 183, 190, 155,  27,  13,  12,  12,  13,  16],\n",
       "       [186, 185, 181,  37,  14,  14,  15,  15,  16,  14],\n",
       "       [183, 195,  96,  16,  14,  14,  15,  14,  14,  15],\n",
       "       [191, 159,  24,  13,  13,  12,  13,  14,  14,  14],\n",
       "       [185,  49,  15,  16,  16,  13,  12,  12,  13,  14]])"
      ]
     },
     "execution_count": 4,
     "metadata": {},
     "output_type": "execute_result"
    }
   ],
   "source": [
    "x = np.reshape(x,(10,10))\n",
    "x"
   ]
  },
  {
   "cell_type": "markdown",
   "metadata": {},
   "source": [
    "# Using Sobel X and Sobel Y to find out first order derivative in X and Y direction"
   ]
  },
  {
   "cell_type": "code",
   "execution_count": 15,
   "metadata": {},
   "outputs": [
    {
     "data": {
      "text/plain": [
       "<matplotlib.image.AxesImage at 0x5a7a049128>"
      ]
     },
     "execution_count": 15,
     "metadata": {},
     "output_type": "execute_result"
    },
    {
     "data": {
      "image/png": "[encoded data removed]",
      "text/plain": [
       "<Figure size 432x288 with 1 Axes>"
      ]
     },
     "metadata": {
      "needs_background": "light"
     },
     "output_type": "display_data"
    }
   ],
   "source": [
    "import matplotlib.pyplot as plt\n",
    "plt.imshow(x)"
   ]
  },
  {
   "cell_type": "code",
   "execution_count": 20,
   "metadata": {},
   "outputs": [
    {
     "name": "stdout",
     "output_type": "stream",
     "text": [
      "(3, 3)\n",
      "\n"
     ]
    },
    {
     "data": {
      "text/plain": [
       "array([[-1,  0,  1],\n",
       "       [-2,  0,  2],\n",
       "       [-1,  0,  1]])"
      ]
     },
     "execution_count": 20,
     "metadata": {},
     "output_type": "execute_result"
    }
   ],
   "source": [
    "gx = np.array([[-1,0,1],[-2,0,2],[-1,0,1]])\n",
    "print(gx.shape)\n",
    "print()\n",
    "gx"
   ]
  },
  {
   "cell_type": "code",
   "execution_count": 21,
   "metadata": {},
   "outputs": [
    {
     "name": "stdout",
     "output_type": "stream",
     "text": [
      "(3, 3)\n",
      "\n"
     ]
    },
    {
     "data": {
      "text/plain": [
       "array([[-1, -2, -1],\n",
       "       [ 0,  0,  0],\n",
       "       [ 1,  2,  1]])"
      ]
     },
     "execution_count": 21,
     "metadata": {},
     "output_type": "execute_result"
    }
   ],
   "source": [
    "gy = gx.T\n",
    "print(gy.shape)\n",
    "print()\n",
    "gy"
   ]
  },
  {
   "cell_type": "code",
   "execution_count": 23,
   "metadata": {},
   "outputs": [
    {
     "data": {
      "text/plain": [
       "array([[180, 181, 181],\n",
       "       [180, 182, 182],\n",
       "       [186, 180, 183]])"
      ]
     },
     "execution_count": 23,
     "metadata": {},
     "output_type": "execute_result"
    }
   ],
   "source": [
    "x[0:3,0:3]"
   ]
  },
  {
   "cell_type": "markdown",
   "metadata": {},
   "source": [
    "# Calculation of delta_Ix and delta_Iy"
   ]
  },
  {
   "cell_type": "code",
   "execution_count": 28,
   "metadata": {},
   "outputs": [
    {
     "name": "stdout",
     "output_type": "stream",
     "text": [
      "(8, 8)\n",
      "Delta-X\n",
      "-------\n",
      " [[  0.25    1.125   0.875   1.125   2.      0.5     0.375   0.75 ]\n",
      " [  0.25    1.125   2.125   1.125  -6.125 -11.25   -5.75   -1.25 ]\n",
      " [  1.625   2.     -2.25  -18.75  -31.625 -27.    -11.75   -3.375]\n",
      " [  2.875  -0.75  -28.625 -55.125 -43.125 -19.     -5.625  -1.   ]\n",
      " [  2.125 -24.25  -66.25  -56.75  -20.375  -3.625   0.5     1.125]\n",
      " [-11.    -62.875 -72.375 -23.75   -1.5     0.125   0.25    0.375]\n",
      " [-43.25  -81.5   -42.75   -3.5     0.375   0.375   0.      0.125]\n",
      " [-73.875 -63.    -12.875  -0.875  -0.375   0.375   0.25    0.375]]\n",
      "\n",
      "Delta-Y\n",
      "-------\n",
      " [[  0.75    0.375   1.125   2.375   3.      3.25    3.375   3.25 ]\n",
      " [  0.75    1.125   1.625   1.625  -7.125 -27.25  -45.25  -53.25 ]\n",
      " [  0.375   2.25   -1.75  -26.    -62.625 -83.75  -87.5   -87.625]\n",
      " [  0.625  -2.75  -27.875 -66.375 -77.625 -60.    -42.125 -33.5  ]\n",
      " [  0.625 -20.25  -56.25  -57.    -24.625  -4.125  -0.5    -0.875]\n",
      " [ -8.5   -39.375 -48.125 -20.5    -1.      1.125   1.      0.375]\n",
      " [-25.5   -45.5   -25.75   -3.5    -0.875  -0.875  -0.75   -0.625]\n",
      " [-46.375 -38.5    -9.875   0.375  -0.375  -1.125  -1.     -0.625]]\n"
     ]
    },
    {
     "data": {
      "text/plain": [
       "Text(0.5, 1.0, 'Delta Y')"
      ]
     },
     "execution_count": 28,
     "metadata": {},
     "output_type": "execute_result"
    },
    {
     "data": {
      "image/png": "[encoded data removed]",
      "text/plain": [
       "<Figure size 432x288 with 1 Axes>"
      ]
     },
     "metadata": {
      "needs_background": "light"
     },
     "output_type": "display_data"
    },
    {
     "data": {
      "image/png": "[encoded data removed]",
      "text/plain": [
       "<Figure size 432x288 with 1 Axes>"
      ]
     },
     "metadata": {
      "needs_background": "light"
     },
     "output_type": "display_data"
    }
   ],
   "source": [
    "delta_x = np.zeros((8,8))\n",
    "delta_y = np.zeros((8,8))\n",
    "\n",
    "for i in range(1,9):\n",
    "    for j in range(1,9):\n",
    "        delta_x[i-1,j-1] = (1/8)*sum(sum(np.multiply(gx,x[i-1:i+2,j-1:j+2])))\n",
    "        delta_y[i-1,j-1] = (1/8)*sum(sum(np.multiply(x[i-1:i+2,j-1:j+2],gy))) ## Stride = 1, Padding  = 0\n",
    "\n",
    "plt.imshow(delta_x)\n",
    "plt.title('Delta X')\n",
    "plt.figure()        \n",
    "print('Delta-X\\n-------\\n',delta_x)\n",
    "print()\n",
    "print('Delta-Y\\n-------\\n',delta_y)\n",
    "plt.imshow(delta_y)\n",
    "plt.title('Delta Y')"
   ]
  },
  {
   "cell_type": "markdown",
   "metadata": {},
   "source": [
    "# Calculation of gradient magnitude and directions"
   ]
  },
  {
   "cell_type": "code",
   "execution_count": 72,
   "metadata": {},
   "outputs": [
    {
     "name": "stdout",
     "output_type": "stream",
     "text": [
      "Gradient Magnitude\n",
      "-------------\n",
      " [[ 0.79056942  1.18585412  1.42521928  2.62797451  3.60555128  3.28823661\n",
      "   3.39576943  3.33541602]\n",
      " [ 0.79056942  1.59099026  2.67511682  1.97642354  9.39581024 29.48092604\n",
      "  45.61386851 53.26466934]\n",
      " [ 1.66770801  3.01039864  2.85043856 32.05561573 70.15718958 87.99467313\n",
      "  88.28540366 87.68997235]\n",
      " [ 2.94215057  2.85043856 39.95505287 86.2809727  88.79980997 62.93647591\n",
      "  42.49889704 33.51492205]\n",
      " [ 2.21500564 31.59311634 86.90871648 80.43359062 31.9614025   5.49147066\n",
      "   0.70710678  1.42521928]\n",
      " [13.90143877 74.18663121 86.91464923 31.37375496  1.80277564  1.13192314\n",
      "   1.03077641  0.53033009]\n",
      " [50.20769363 93.34077351 49.90616194  4.94974747  0.95197164  0.95197164\n",
      "   0.75        0.63737744]\n",
      " [87.22474563 73.83258088 16.22594373  0.95197164  0.53033009  1.18585412\n",
      "   1.03077641  0.72886899]]\n",
      "\n",
      "Gradient Directions\n",
      "------------\n",
      " [[ 1.24904577  0.32175055  0.90975316  1.1284221   0.98279372  1.418147\n",
      "   1.46013911  1.34399748]\n",
      " [ 1.24904577  0.78539816  0.65284663  0.96525166  0.86072705  1.17926677\n",
      "   1.44440191  1.54732646]\n",
      " [ 0.22679885  0.84415399  0.66104317  0.94601378  1.10316468  1.25892865\n",
      "   1.43730917  1.53229895]\n",
      " [ 0.21406068  1.30454428  0.77212461  0.8777275   1.06369782  1.26412001\n",
      "   1.43805043  1.54095444]\n",
      " [ 0.28605144  0.69575145  0.70394612  0.78759596  0.87956329  0.849825\n",
      "  -0.78539816 -0.66104317]\n",
      " [ 0.65788861  0.55949233  0.58680595  0.71208348  0.5880026   1.46013911\n",
      "   1.32581766  0.78539816]\n",
      " [ 0.53273391  0.50917967  0.54213771  0.78539816 -1.16590454 -1.16590454\n",
      "  -1.57079633 -1.37340077]\n",
      " [ 0.5605741   0.5485494   0.65428651 -0.40489179  0.78539816 -1.24904577\n",
      "  -1.32581766 -1.03037683]]\n"
     ]
    },
    {
     "name": "stderr",
     "output_type": "stream",
     "text": [
      "C:\\Users\\Rajat\\Anaconda3\\lib\\site-packages\\ipykernel_launcher.py:7: RuntimeWarning: divide by zero encountered in double_scalars\n",
      "  import sys\n"
     ]
    }
   ],
   "source": [
    "grad_mag = np.zeros((8,8))\n",
    "grad_dir = np.zeros((8,8))\n",
    "\n",
    "for i in range(0,8):\n",
    "    for j in range(0,8):\n",
    "        grad_mag[i,j] = np.sqrt(delta_x[i,j]**2+delta_y[i,j]**2)\n",
    "        grad_dir[i,j] = np.arctan(delta_y[i,j]/delta_x[i,j])\n",
    "\n",
    "print('Gradient Magnitude\\n-------------\\n',grad_mag)\n",
    "print()\n",
    "print('Gradient Directions\\n------------\\n',grad_dir)"
   ]
  },
  {
   "cell_type": "code",
   "execution_count": 118,
   "metadata": {},
   "outputs": [
    {
     "name": "stdout",
     "output_type": "stream",
     "text": [
      "HOG Feature Vector is of size 9 X 1 : \n",
      "\n",
      "[  8.01071835  94.29274515 461.15339533 278.57273594 171.5973133\n",
      " 163.29141981 187.71098582  12.17302144 356.14542552]\n"
     ]
    },
    {
     "data": {
      "image/png": "[encoded data removed]",
      "text/plain": [
       "<Figure size 432x288 with 1 Axes>"
      ]
     },
     "metadata": {
      "needs_background": "light"
     },
     "output_type": "display_data"
    }
   ],
   "source": [
    "import math\n",
    "# Converting gradient direction from radians to degrees \n",
    "grad_dir_degree = []\n",
    "grad_dir_reshaped = grad_dir.reshape(64,1)\n",
    "\n",
    "for i in grad_dir_reshaped:\n",
    "    if math.degrees(i)>=0:\n",
    "        grad_dir_degree.append(math.degrees(i))\n",
    "    else: ## Unsign the gradients\n",
    "        grad_dir_degree.append(-math.degrees(i))\n",
    "   \n",
    "n, bins, patches = plt.hist(grad_dir_degree, bins = 9, \n",
    "                            weights = grad_mag.reshape(64,1), histtype = 'bar', color = 'g', edgecolor='black', linewidth=1.2) \n",
    "plt.title('HOG Features: bins = 9')\n",
    "plt.xlabel('Gradient Direction')\n",
    "plt.ylabel('Gradient Magnitude')\n",
    "\n",
    "#print(sum(grad_mag.reshape(64,1)))\n",
    "#print(sum(n))\n",
    "## weight = magnitude of gradient \n",
    "## Value = gradient direction in degrees\n",
    "print('HOG Feature Vector is of size 9 X 1 : \\n')\n",
    "print(n)\n",
    "## n: is the number of counts in each bin of the histogram (in case of unweighted histogram)\n",
    "## n: is the weighted count (weight = grad_mag(i)/sum(grad_mag)) Hence = HOG Feature Vector \n",
    "## bins: is the left hand edge of each bin\n",
    "## patchesis the individual patches used to create the histogram, e.g a collection of rectangles or individual plots "
   ]
  },
  {
   "cell_type": "code",
   "execution_count": 119,
   "metadata": {},
   "outputs": [
    {
     "name": "stdout",
     "output_type": "stream",
     "text": [
      "HOG Feature Vector is of size: 12 X 1 \n",
      "\n",
      "[  8.01071835   0.95197164 267.28720997 287.20695887 189.83064065\n",
      " 224.88215004  39.06280983 159.68586853  34.01284382 161.94554939\n",
      " 180.32378326 179.74725631]\n"
     ]
    },
    {
     "data": {
      "image/png": "[encoded data removed]",
      "text/plain": [
       "<Figure size 432x288 with 1 Axes>"
      ]
     },
     "metadata": {
      "needs_background": "light"
     },
     "output_type": "display_data"
    }
   ],
   "source": [
    "import math\n",
    "# Converting gradient direction from radians to degrees \n",
    "grad_dir_degree = []\n",
    "grad_dir_reshaped = grad_dir.reshape(64,1)\n",
    "\n",
    "for i in grad_dir_reshaped:\n",
    "    if math.degrees(i)>=0:\n",
    "        grad_dir_degree.append(math.degrees(i))\n",
    "    else: ## Unsign the gradients\n",
    "        grad_dir_degree.append(-math.degrees(i))\n",
    "   \n",
    "n, bins, patches = plt.hist(grad_dir_degree, bins = 12, \n",
    "                            weights = grad_mag.reshape(64,1), histtype = 'bar', color = 'g',edgecolor='black', linewidth=1.2) \n",
    "plt.title('HOG Features: bins = 12')\n",
    "plt.xlabel('Gradient Direction')\n",
    "plt.ylabel('Gradient Magnitude')\n",
    "print('HOG Feature Vector is of size: 12 X 1 \\n')\n",
    "print(n)\n",
    "## weight = magnitude of gradient \n",
    "## Value = gradient direction in degrees"
   ]
  },
  {
   "cell_type": "code",
   "execution_count": null,
   "metadata": {},
   "outputs": [],
   "source": []
  }
 ],
 "metadata": {
  "kernelspec": {
   "display_name": "Python 3",
   "language": "python",
   "name": "python3"
  },
  "language_info": {
   "codemirror_mode": {
    "name": "ipython",
    "version": 3
   },
   "file_extension": ".py",
   "mimetype": "text/x-python",
   "name": "python",
   "nbconvert_exporter": "python",
   "pygments_lexer": "ipython3",
   "version": "3.7.3"
  }
 },
 "nbformat": 4,
 "nbformat_minor": 2
}
